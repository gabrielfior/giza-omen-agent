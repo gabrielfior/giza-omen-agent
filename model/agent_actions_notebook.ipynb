{
 "cells": [
  {
   "cell_type": "markdown",
   "metadata": {},
   "source": [
    "# Transpilation and Actions\n"
   ]
  },
  {
   "cell_type": "markdown",
   "metadata": {},
   "source": [
    "**In this notebook, we are going to go over the instructions on how to use the giza-cli to manage accounts and transpile models. \n",
    "Following the transpilation, we are going to use the giza-actions to make the model verifiable!**\n"
   ]
  },
  {
   "cell_type": "markdown",
   "metadata": {},
   "source": [
    "*It is assumed that you have succesfully created and trained the model, and imported it as a .onnx file. If not, go to the model.ipynb notebook and run it.*\n"
   ]
  },
  {
   "cell_type": "markdown",
   "metadata": {},
   "source": [
    "## 1) Giza Users\n",
    "\n",
    "Documentation: https://cli.gizatech.xyz/resources/users"
   ]
  },
  {
   "cell_type": "markdown",
   "metadata": {},
   "source": [
    "Create an account to use the giza cli"
   ]
  },
  {
   "cell_type": "markdown",
   "metadata": {},
   "source": [
    "```bash\n",
    "$ giza users create\n",
    "```\n",
    "\n",
    "```\n",
    "Enter your username 😎: ege\n",
    "Enter your password 🥷 : (this is a secret)\n",
    "Enter your email 📧: ege@gizatech.xyz\n",
    "User created ✅. Check for a verification email 📧\n",
    "```"
   ]
  },
  {
   "cell_type": "markdown",
   "metadata": {},
   "source": [
    "Great, after email verification, we can log in!"
   ]
  },
  {
   "cell_type": "markdown",
   "metadata": {},
   "source": [
    "```bash\n",
    "$ giza users login\n",
    "```\n",
    "```\n",
    "Enter your username 😎: ege\n",
    "Enter your password 🥷 :\n",
    "Log into Giza\n",
    "Credentials written to: /Users/ege/.giza/.credentials.json\n",
    "Successfully logged into Giza ✅\n",
    "```"
   ]
  },
  {
   "cell_type": "markdown",
   "metadata": {},
   "source": [
    "Lastly, lets create a API-Key"
   ]
  },
  {
   "cell_type": "markdown",
   "metadata": {},
   "source": [
    "```bash\n",
    "$ giza users create-api-key\n",
    "```\n",
    "```\n",
    "Creating API Key ✅ \n",
    "API Key written to: /Users/.....\n",
    "Successfully created API Key. It will be used for future requests ✅ \n",
    "```"
   ]
  },
  {
   "cell_type": "markdown",
   "metadata": {},
   "source": [
    "Perfect, we are ready for transpilation!"
   ]
  },
  {
   "cell_type": "markdown",
   "metadata": {},
   "source": [
    "## 2) Transpilation\n",
    "\n",
    "Docs: https://cli.gizatech.xyz/resources/models"
   ]
  },
  {
   "cell_type": "markdown",
   "metadata": {},
   "source": [
    "Now that we are logged in, we can use the cli to transform the .onnx models into verifiable cairo models."
   ]
  },
  {
   "cell_type": "markdown",
   "metadata": {},
   "source": [
    "```bash\n",
    "giza transpile model/dummy_model.onnx --output-path omen_model \n",
    "```\n",
    "```\n",
    "Model name is: dummy_model\n",
    "Model found with id -> 582! ✅\n",
    "Version Created with id -> 2! ✅\n",
    "Sending model for transpilation ✅ \n",
    "Transpilation is fully compatible. Version compiled and Sierra is saved at Giza ✅\n",
    "Downloading model ✅\n",
    "model saved at: omen_model\n",
    "```"
   ]
  },
  {
   "cell_type": "markdown",
   "metadata": {},
   "source": [
    "Its that easy! Now, its interesting to take a look at the newly created cairo model folder, where we see the same model we have developed in the previous notebook, but written in Cairo. Its quickly realize however, that there are some differences, such as the model parameters being stored layer-wise in their respective folders. For more information, check out the Orion Docs: https://orion.gizatech.xyz/welcome/readme"
   ]
  },
  {
   "cell_type": "markdown",
   "metadata": {},
   "source": [
    "Now its time to create a new workspace."
   ]
  },
  {
   "cell_type": "markdown",
   "metadata": {},
   "source": [
    "## 3) Workspaces\n",
    "\n",
    "Docs: https://cli.gizatech.xyz/resources/workspaces"
   ]
  },
  {
   "cell_type": "markdown",
   "metadata": {},
   "source": [
    "```bash\n",
    "giza workspaces create\n",
    "```\n",
    "```\n",
    "Creating Workspace ✅ \n",
    "This process can take up to 10 minutes ⏳\n",
    "Waiting for workspace creation...\n",
    "Workspace status is 'PROCESSING'\n",
    "Worksace creation is successful ✅\n",
    "Workspace URL: https://actions-server-ege-gageadsga-ew.a.run.app \n",
    "```"
   ]
  },
  {
   "cell_type": "markdown",
   "metadata": {},
   "source": [
    "Great, lets deploy the model!"
   ]
  },
  {
   "cell_type": "markdown",
   "metadata": {},
   "source": [
    "## 4) Model Deployment\n",
    "\n",
    "Docs: https://cli.gizatech.xyz/resources/deployments"
   ]
  },
  {
   "cell_type": "markdown",
   "metadata": {},
   "source": [
    "**The model-id and the version we can easily get from the output of the transpilation**"
   ]
  },
  {
   "cell_type": "markdown",
   "metadata": {},
   "source": [
    "```bash\n",
    "giza endpoints deploy --model-id 582 --version-id 2\n",
    "```\n",
    "```\n",
    "Endpoint is successful ✅\n",
    "Endpoint created with id -> 181 ✅\n",
    "Endpoint created with endpoint URL: https://endpoint-ege-582-1-2c3f0b87-7i3yxzspbq-ew.a.run.app 🎉\n",
    "```"
   ]
  },
  {
   "cell_type": "markdown",
   "metadata": {},
   "source": [
    "Time to reap the rewards!"
   ]
  },
  {
   "cell_type": "markdown",
   "metadata": {},
   "source": [
    "## 5) Ape Framework"
   ]
  },
  {
   "cell_type": "markdown",
   "metadata": {},
   "source": [
    "Docs : https://agents.gizatech.xyz/how-to-guides/create-an-account-wallet"
   ]
  },
  {
   "cell_type": "markdown",
   "metadata": {
    "vscode": {
     "languageId": "plaintext"
    }
   },
   "source": [
    "To create an agent, we need to create an ape account"
   ]
  },
  {
   "cell_type": "markdown",
   "metadata": {
    "vscode": {
     "languageId": "plaintext"
    }
   },
   "source": [
    "```bash\n",
    "ape accounts generate <account name>\n",
    "```"
   ]
  },
  {
   "cell_type": "markdown",
   "metadata": {},
   "source": [
    "SUCCESS: A new account '0xD15e7d41665a8360b106ee4A9B98a3BF97eb3B3b' with HDPath m/44'/60'/0'/0/0 has been added with the id 'omen-agent'"
   ]
  },
  {
   "cell_type": "markdown",
   "metadata": {},
   "source": [
    "## 6) Giza Agents"
   ]
  },
  {
   "cell_type": "markdown",
   "metadata": {
    "vscode": {
     "languageId": "plaintext"
    }
   },
   "source": [
    "Docs : https://agents.gizatech.xyz/concepts/agent"
   ]
  },
  {
   "cell_type": "markdown",
   "metadata": {
    "vscode": {
     "languageId": "plaintext"
    }
   },
   "source": [
    "```bash\n",
    "giza agents create --endpoint-id 181 --name omen-agent --description omen-dummy-agent\n",
    "```\n",
    "```\n",
    "\n",
    "Creating agent ✅ \n",
    "Using endpoint id to create agent, retrieving model id and version id\n",
    "Select an existing account to create the agent.\n",
    "Available accounts are:\n",
    "┏━━━━━━━━━━━━━━━━━━┓\n",
    "┃     Accounts     ┃\n",
    "┡━━━━━━━━━━━━━━━━━━┩\n",
    "│   pendle-agent   │\n",
    "│    omen-agent    │\n",
    "│  pendle-swapper  │\n",
    "│ carbonable-agent │\n",
    "└──────────────────┘\n",
    "Enter the account name: omen-agent\n",
    "{\n",
    "  \"id\": 10,\n",
    "  \"name\": \"omen-agent\",\n",
    "  \"description\": \"omen-dummy-agent\",\n",
    "  \"parameters\": {\n",
    "    \"model_id\": 582,\n",
    "    \"version_id\": 1,\n",
    "    \"endpoint_id\": 181,\n",
    "    \"account\": \"omen-agent\"\n",
    "  },\n",
    "  \"created_date\": \"2024-05-14T13:34:48.008185\",\n",
    "  \"last_update\": \"2024-05-14T13:34:48.008185\"\n",
    "}\n",
    "```"
   ]
  },
  {
   "cell_type": "markdown",
   "metadata": {
    "vscode": {
     "languageId": "plaintext"
    }
   },
   "source": [
    "Perfect, now we can start developing the agent logic!"
   ]
  }
 ],
 "metadata": {
  "kernelspec": {
   "display_name": "aave_liquiditation_model-m2euP33O-py3.11",
   "language": "python",
   "name": "python3"
  },
  "language_info": {
   "codemirror_mode": {
    "name": "ipython",
    "version": 3
   },
   "file_extension": ".py",
   "mimetype": "text/x-python",
   "name": "python",
   "nbconvert_exporter": "python",
   "pygments_lexer": "ipython3",
   "version": "3.11.0"
  }
 },
 "nbformat": 4,
 "nbformat_minor": 2
}
